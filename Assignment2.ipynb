{
  "nbformat": 4,
  "nbformat_minor": 0,
  "metadata": {
    "colab": {
      "name": "Assignment2.ipynb",
      "provenance": [],
      "collapsed_sections": []
    },
    "kernelspec": {
      "name": "python3",
      "display_name": "Python 3"
    }
  },
  "cells": [
    {
      "cell_type": "code",
      "metadata": {
        "colab": {
          "base_uri": "https://localhost:8080/"
        },
        "id": "m3asHcyB7rLi",
        "outputId": "47aaf5db-bacf-417a-cc92-fa9eb999c95d"
      },
      "source": [
        "MarksInput= int(input('Enter your marks'))\n",
        "\n",
        "if  MarksInput > 90 :\n",
        "    print('Your grade is A')\n",
        "elif MarksInput > 80 :\n",
        "    print('Your grade is B') \n",
        "elif MarksInput > 70 :\n",
        "    print('Your grade is C')\n",
        "else :\n",
        "    print('Your grade is D')\n",
        "\n"
      ],
      "execution_count": null,
      "outputs": [
        {
          "output_type": "stream",
          "text": [
            "Enter your marks71\n",
            "Your grade is C\n"
          ],
          "name": "stdout"
        }
      ]
    },
    {
      "cell_type": "code",
      "metadata": {
        "colab": {
          "base_uri": "https://localhost:8080/"
        },
        "id": "dGta6Jka9-if",
        "outputId": "fe46c4b1-a2e2-4deb-f9f4-844ff80bdb1f"
      },
      "source": [
        "username=('sidharthshamlal')\n",
        "password=('Sid123')\n",
        "OTP=('XGR34I')\n",
        "EnteredOTP=0\n",
        "EnteredUsername=input('Please enter your username')\n",
        "\n",
        "if EnteredUsername==username:\n",
        "   print('Welcome',EnteredUsername)\n",
        "   EnteredPassword=input('Enter password')\n",
        "\n",
        "\n",
        "else :\n",
        "      print ('Invalid Username')\n",
        "\n",
        "if EnteredPassword==password :\n",
        "   EnteredOTP=input('Enter OTP sent via SMS')\n",
        "   \n",
        "else :\n",
        "      print ('Wrong Password')\n",
        "\n",
        "if EnteredOTP==OTP :\n",
        "   print('Access granted')\n",
        "\n",
        "elif EnteredOTP==0 :\n",
        "      print(' ')\n",
        "\n",
        "else :\n",
        "       print('Wrong OTP')\n",
        "\n",
        "\n",
        "\n",
        "\n",
        "    \n",
        "\n",
        "  "
      ],
      "execution_count": null,
      "outputs": [
        {
          "output_type": "stream",
          "text": [
            "Please enter your usernamesidharthshamlal\n",
            "Welcome sidharthshamlal\n",
            "Enter passwordSid123\n",
            "Enter OTP sent via SMSXGR34I\n",
            "Access granted\n"
          ],
          "name": "stdout"
        }
      ]
    },
    {
      "cell_type": "code",
      "metadata": {
        "id": "VBTRyOk1Jqvf",
        "colab": {
          "base_uri": "https://localhost:8080/"
        },
        "outputId": "037a3152-ed53-409b-9849-f51c23360d80"
      },
      "source": [
        "Students=[24,93,65,81,58,44,77]\n",
        "\n",
        "for a in Students :\n",
        "\n",
        " if  a < 60 :\n",
        "    print(a)\n",
        "\n",
        " else :\n",
        "      continue"
      ],
      "execution_count": null,
      "outputs": [
        {
          "output_type": "stream",
          "text": [
            "24\n",
            "58\n",
            "44\n"
          ],
          "name": "stdout"
        }
      ]
    }
  ]
}